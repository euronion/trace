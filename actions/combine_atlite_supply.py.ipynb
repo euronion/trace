{
 "cells": [
  {
   "cell_type": "code",
   "execution_count": null,
   "id": "de2c0d6d",
   "metadata": {},
   "outputs": [],
   "source": [
    "import logging\n",
    "from pathlib import Path\n",
    "\n",
    "import numpy as np\n",
    "import pandas as pd\n",
    "import xarray as xr\n",
    "from _helpers import configure_logging\n",
    "\n",
    "logger = logging.getLogger(__name__)\n",
    "\n",
    "if __name__ == \"__main__\":\n",
    "    configure_logging(snakemake)\n",
    "\n",
    "    # Keys = naming of technologies/snakemake.input.keys() until now\n",
    "    # Values = Name of the technologies from costs.csv / for downstream starting here\n",
    "    technology_mapping = {\n",
    "        \"wind_onshore\": \"onwind\",\n",
    "        \"wind_offshore\": \"offwind\",\n",
    "        \"pvplant\": \"solar-utility\",\n",
    "        \"csp_tower\": \"csp-tower\",\n",
    "    }\n",
    "\n",
    "    dsl = []  # Used to merge all profile files\n",
    "\n",
    "    for fp in snakemake.input[\"profiles\"]:\n",
    "\n",
    "        # determine technology from each file path (could probably be done nicer)\n",
    "        # example fp: \"resources/profiles/Saudi_Arabia_wind_onshore.nc\"\n",
    "        technology = fp.replace(\".nc\", \"\").replace(\n",
    "            f\"resources/profiles/{snakemake.wildcards['region']}_\", \"\"\n",
    "        )\n",
    "        assert technology in technology_mapping.keys()\n",
    "        technology = technology_mapping[technology]\n",
    "\n",
    "        ds = xr.open_dataset(fp)\n",
    "        ds = ds.assign_coords({\"technology\": technology}).expand_dims(\"technology\")\n",
    "        ds = ds.transpose(\"technology\", \"time\", \"class\")\n",
    "        dsl.append(ds)\n",
    "\n",
    "    ds = xr.merge(dsl)\n",
    "\n",
    "    ## Nice plots, keep for later\n",
    "    # import hvplot.xarray\n",
    "    # ds[\"capacities\"].hvplot(kind=\"bar\", by=\"technology\", subplots=True).cols(2)\n",
    "    # ds[\"profiles\"].mean(\"time\").hvplot(kind=\"bar\", ylabel=\"Mean CF (p.u.)\", by=\"technology\", subplots=True).cols(2)\n",
    "    # (ds[\"profiles\"].mean(\"time\")*ds[\"capacities\"]/1e6*8780).rename(\"Available generation (TWh per year)\").cumsum(dim=\"class\").hvplot(by=\"technology\")\n",
    "\n",
    "    ds.to_netcdf(snakemake.output[\"supply\"])"
   ]
  }
 ],
 "metadata": {
  "kernelspec": {
   "display_name": "Python 3 (ipykernel)",
   "language": "python",
   "name": "python3"
  },
  "language_info": {
   "codemirror_mode": {
    "name": "ipython",
    "version": 3
   },
   "file_extension": ".py",
   "mimetype": "text/x-python",
   "name": "python",
   "nbconvert_exporter": "python",
   "pygments_lexer": "ipython3",
   "version": "3.8.12"
  }
 },
 "nbformat": 4,
 "nbformat_minor": 5
}
