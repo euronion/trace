{
 "cells": [
  {
   "cell_type": "code",
   "execution_count": null,
   "id": "27cd91bb",
   "metadata": {},
   "outputs": [],
   "source": [
    "from pathlib import Path\n",
    "\n",
    "import hvplot.pandas\n",
    "import hvplot.xarray\n",
    "import pypsa\n",
    "import xarray as xr\n",
    "from _helpers import configure_logging\n",
    "\n",
    "if __name__ == \"__main__\":\n",
    "    scenario = snakemake.params[\"scenario\"]\n",
    "\n",
    "    configure_logging(snakemake)\n",
    "\n",
    "    network = pypsa.Network(snakemake.input.network)\n",
    "\n",
    "    # Total optimal capacity per carrier\n",
    "    p_nom_opt = network.generators.groupby(\"carrier\").sum()[\"p_nom_opt\"].to_xarray()\n",
    "    p_nom_opt = p_nom_opt.rename({\"carrier\": \"technology\"})\n",
    "\n",
    "    total_capacity_per_carrier = network.generators.groupby(\n",
    "        by=\"carrier\", axis=\"index\"\n",
    "    ).sum()[\"p_nom_opt\"]\n",
    "\n",
    "    # Create groupnames without numbers per column to groupby, e.g. \"offwind 1\" -> \"offwind\"\n",
    "    groups = network.generators_t[\"p_max_pu\"].columns.str.replace(\n",
    "        \"\\s\\d\\d?\", \"\", regex=True\n",
    "    )\n",
    "\n",
    "    weighted_p_max = (\n",
    "        (network.generators_t[\"p_max_pu\"] * network.generators[\"p_nom_opt\"])\n",
    "        .groupby(by=groups, axis=\"columns\")\n",
    "        .sum()\n",
    "    )\n",
    "\n",
    "    weighted_p_max_pu = weighted_p_max / total_capacity_per_carrier\n",
    "\n",
    "    # Convert structure to nice pandas DataFrame and then to xarray DataArray\n",
    "    weighted_p_max_pu = (\n",
    "        weighted_p_max_pu.reset_index()\n",
    "        .melt(\"snapshot\", var_name=\"technology\", value_name=\"p_max_pu\")\n",
    "        .set_index([\"technology\", \"snapshot\"])\n",
    "        .to_xarray()\n",
    "    )\n",
    "\n",
    "    ds = xr.merge([p_nom_opt, weighted_p_max_pu])\n",
    "\n",
    "    ds.to_netcdf(snakemake.output[0])"
   ]
  }
 ],
 "metadata": {
  "kernelspec": {
   "display_name": "Python 3 (ipykernel)",
   "language": "python",
   "name": "python3"
  },
  "language_info": {
   "codemirror_mode": {
    "name": "ipython",
    "version": 3
   },
   "file_extension": ".py",
   "mimetype": "text/x-python",
   "name": "python",
   "nbconvert_exporter": "python",
   "pygments_lexer": "ipython3",
   "version": "3.10.6"
  }
 },
 "nbformat": 4,
 "nbformat_minor": 5
}
