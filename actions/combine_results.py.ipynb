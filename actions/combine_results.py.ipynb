{
 "cells": [
  {
   "cell_type": "code",
   "execution_count": null,
   "id": "0aceb942",
   "metadata": {
    "scrolled": false
   },
   "outputs": [],
   "source": [
    "import csv\n",
    "import logging\n",
    "from pathlib import Path\n",
    "\n",
    "import numpy as np\n",
    "import pandas as pd\n",
    "from _helpers import configure_logging\n",
    "\n",
    "logger = logging.getLogger(__name__)\n",
    "\n",
    "if __name__ == \"__main__\":\n",
    "    configure_logging(snakemake)\n",
    "\n",
    "    if len(snakemake.input[\"results\"]) != len(set(snakemake.input[\"results\"])):\n",
    "        ds = pd.Series(list(snakemake.input[\"results\"])).value_counts()\n",
    "        raise ValueError(\n",
    "            \"List of input files contains duplicates. \"\n",
    "            \"Script would later fail, so stopping here gracefully. \"\n",
    "            f\"Affected files: {list(ds.loc[ds > 1].index)}\"\n",
    "        )\n",
    "\n",
    "    dfs = []\n",
    "\n",
    "    for fn in snakemake.input[\"results\"]:\n",
    "        fn = Path(fn)\n",
    "\n",
    "        df = pd.read_csv(fn, keep_default_na=False, sep=\";\")\n",
    "\n",
    "        dfs.append(df)\n",
    "\n",
    "    df = pd.concat(dfs)\n",
    "    df = df.set_index(\n",
    "        [\n",
    "            \"scenario\",\n",
    "            \"year\",\n",
    "            \"wacc\",\n",
    "            \"esc\",\n",
    "            \"exporter\",\n",
    "            \"importer\",\n",
    "            \"category\",\n",
    "            \"subcategory\",\n",
    "        ],\n",
    "        verify_integrity=True,\n",
    "    )\n",
    "\n",
    "    df.to_csv(\n",
    "        snakemake.output[\"results\"], sep=\";\", quotechar='\"', quoting=csv.QUOTE_ALL\n",
    "    )"
   ]
  }
 ],
 "metadata": {
  "kernelspec": {
   "display_name": "Python 3 (ipykernel)",
   "language": "python",
   "name": "python3"
  },
  "language_info": {
   "codemirror_mode": {
    "name": "ipython",
    "version": 3
   },
   "file_extension": ".py",
   "mimetype": "text/x-python",
   "name": "python",
   "nbconvert_exporter": "python",
   "pygments_lexer": "ipython3",
   "version": "3.11.3"
  }
 },
 "nbformat": 4,
 "nbformat_minor": 5
}
