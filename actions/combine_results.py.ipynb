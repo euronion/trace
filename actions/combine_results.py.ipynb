{
 "cells": [
  {
   "cell_type": "code",
   "execution_count": null,
   "metadata": {},
   "outputs": [],
   "source": [
    "import pandas as pd\n",
    "import numpy as np\n",
    "from pathlib import Path"
   ]
  },
  {
   "cell_type": "code",
   "execution_count": null,
   "metadata": {},
   "outputs": [],
   "source": [
    "fn = snakemake.input[0]\n",
    "\n",
    "\n",
    "dfs = []"
   ]
  },
  {
   "cell_type": "code",
   "execution_count": null,
   "metadata": {},
   "outputs": [],
   "source": [
    "for fn in snakemake.input:\n",
    "    fn = Path(fn)\n",
    "    \n",
    "    year = fn.parts[1].split(\"_\")[0]\n",
    "    wacc = fn.parts[1].split(\"_\")[1]\n",
    "    esc = fn.parts[2]\n",
    "    exporter = fn.parts[3].split(\"-\")[0]\n",
    "    importer = fn.parts[3].split(\"-\")[1]\n",
    "\n",
    "    df = pd.read_csv(fn, delimiter=\";\")\n",
    "\n",
    "    df.insert(0, \"wacc\", wacc)\n",
    "    df.insert(0, \"year\", year)\n",
    "    df.insert(0, \"importer\", importer)\n",
    "    df.insert(0, \"exporter\", exporter)\n",
    "    df.insert(0, \"esc\", esc)\n",
    "    \n",
    "    dfs.append(df)    "
   ]
  },
  {
   "cell_type": "code",
   "execution_count": null,
   "metadata": {},
   "outputs": [],
   "source": [
    "df = pd.concat(dfs)\n",
    "df = df.set_index(['year','wacc','esc','exporter','importer','category','subcategory'], verify_integrity=True)"
   ]
  },
  {
   "cell_type": "code",
   "execution_count": null,
   "metadata": {},
   "outputs": [],
   "source": [
    "df.to_csv(snakemake.output['results'], sep=\";\", quotechar=\"\\\"\")"
   ]
  }
 ],
 "metadata": {
  "kernelspec": {
   "display_name": "Python 3",
   "language": "python",
   "name": "python3"
  },
  "language_info": {
   "codemirror_mode": {
    "name": "ipython",
    "version": 3
   },
   "file_extension": ".py",
   "mimetype": "text/x-python",
   "name": "python",
   "nbconvert_exporter": "python",
   "pygments_lexer": "ipython3",
   "version": "3.7.9"
  }
 },
 "nbformat": 4,
 "nbformat_minor": 4
}
