{
 "cells": [
  {
   "cell_type": "code",
   "execution_count": null,
   "metadata": {
    "scrolled": false
   },
   "outputs": [],
   "source": [
    "import csv\n",
    "import logging\n",
    "from pathlib import Path\n",
    "\n",
    "import numpy as np\n",
    "import pandas as pd\n",
    "from _helpers import configure_logging\n",
    "\n",
    "logger = logging.getLogger(__name__)\n",
    "\n",
    "if __name__ == \"__main__\":\n",
    "    configure_logging(snakemake)\n",
    "\n",
    "    dfs = []\n",
    "\n",
    "    for fn in snakemake.input[\"results\"]:\n",
    "        fn = Path(fn)\n",
    "\n",
    "        df = pd.read_csv(fn, sep=\";\")\n",
    "\n",
    "        dfs.append(df)\n",
    "\n",
    "    df = pd.concat(dfs)\n",
    "    df = df.set_index(\n",
    "        [\"year\", \"wacc\", \"esc\", \"exporter\", \"importer\", \"category\", \"subcategory\"],\n",
    "        verify_integrity=True,\n",
    "    )\n",
    "\n",
    "    df.to_csv(\n",
    "        snakemake.output[\"results\"], sep=\";\", quotechar='\"', quoting=csv.QUOTE_ALL\n",
    "    )"
   ]
  }
 ],
 "metadata": {
  "kernelspec": {
   "display_name": "Python 3",
   "language": "python",
   "name": "python3"
  },
  "language_info": {
   "codemirror_mode": {
    "name": "ipython",
    "version": 3
   },
   "file_extension": ".py",
   "mimetype": "text/x-python",
   "name": "python",
   "nbconvert_exporter": "python",
   "pygments_lexer": "ipython3",
   "version": "3.7.9"
  }
 },
 "nbformat": 4,
 "nbformat_minor": 5
}
