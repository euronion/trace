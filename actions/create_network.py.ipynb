{
 "cells": [
  {
   "cell_type": "code",
   "execution_count": 2,
   "metadata": {},
   "outputs": [],
   "source": [
    "import pypsa\n",
    "import numpy as np\n",
    "import pandas as pd\n",
    "import pickle\n",
    "from pathlib import Path\n",
    "\n",
    "from _helpers import configure_logging\n",
    "import logging\n",
    "logger = logging.getLogger(__name__)"
   ]
  },
  {
   "cell_type": "code",
   "execution_count": 7,
   "metadata": {},
   "outputs": [],
   "source": [
    "def create_network():\n",
    "    \"\"\"Create the pypsa network scaffolding for the ESC.\"\"\"\n",
    "    \n",
    "    # Modify PyPSA 'Link' component to allow for 2 output busses by overwriting component_attrs\n",
    "    # c.f. https://www.pypsa.org/examples/chp-fixed-heat-power-ratio.html\n",
    "    \n",
    "    # Load additional components\n",
    "    with open(snakemake.input[\"additional_components\"], \"rb\") as f:\n",
    "        override_component_attrs = pickle.load(f)\n",
    "\n",
    "    # Create network with modified link-component\n",
    "    network = pypsa.Network(override_component_attrs=override_component_attrs)\n",
    "\n",
    "    # Load network components from csv files\n",
    "    network.import_from_csv_folder(snakemake.input[\"network\"])\n",
    "    \n",
    "    # Equally weighted snapshots, year defined via config\n",
    "    year = snakemake.config[\"scenario\"][\"year\"]\n",
    "    # Handle leap year by dropping 29th of Februray\n",
    "    snapshots = pd.date_range(str(year),str(year+1), freq=\"H\", closed=\"left\")\n",
    "    snapshots = filter(lambda x: not((x.month==2) & (x.day==29)), list(snapshots))\n",
    "    snapshots = [x.strftime('%Y-%m-%d %H:%M:%S') for x in snapshots]\n",
    "    network.set_snapshots(snapshots=snapshots)\n",
    "    \n",
    "    return network\n",
    "\n",
    "def attach_efficiencies(network):\n",
    "    \"\"\"Attach dedicated efficiencies from file.\n",
    "    \n",
    "    The efficiencies are from an additional csv file and added to the links in the pypsa network\n",
    "    Format for efficiencies.csv file:\n",
    "    * \"from\" and \"to\" must substrings of the bus names\n",
    "    * \"process\" must be a substring of the name of the link\n",
    "    \n",
    "    Return\n",
    "    ------\n",
    "    network : pypsa.network\n",
    "        network with external efficiencies attached to all links.\n",
    "    \n",
    "    \"\"\"\n",
    "    efficiencies = pd.read_csv(snakemake.input[\"efficiencies\"])\n",
    "\n",
    "    df = network.links\n",
    "    buses = list(filter(lambda x: x.startswith(\"bus\"), df.columns))\n",
    "    assert len(buses) == 3, \"Only a maximum of three buses are supported per link.\"\n",
    "\n",
    "    for idx, row in efficiencies.iterrows():\n",
    "\n",
    "        # short-hand for simplicity\n",
    "        df = network.links\n",
    "\n",
    "        # determine relevant links\n",
    "        df = df[df.index.str.contains(row.process, regex=False)]\n",
    "\n",
    "        # Check pair-wise combinations in both direction and set correct efficiency\n",
    "        for bus, efficiency in zip([\"bus1\", \"bus2\"],[\"efficiency\", \"efficiency2\"]):\n",
    "            df.loc[df[\"bus0\"].str.contains(row[\"from\"], regex=False) &\n",
    "                   df[bus].str.contains(row[\"to\"], regex=False), efficiency] = row[\"efficiency\"]\n",
    "\n",
    "            df.loc[df[\"bus0\"].str.contains(row[\"to\"], regex=False) &\n",
    "                   df[bus].str.contains(row[\"from\"], regex=False), efficiency] = 1./row[\"efficiency\"]\n",
    "\n",
    "        # Mirror back change to original df\n",
    "        network.links.update(df)\n",
    "    \n",
    "    return network"
   ]
  },
  {
   "cell_type": "code",
   "execution_count": 9,
   "metadata": {
    "scrolled": true
   },
   "outputs": [],
   "source": [
    "if __name__ == \"__main__\":\n",
    "\n",
    "    configure_logging(snakemake)\n",
    "    \n",
    "    Path(snakemake.output[\"network\"]).mkdir(parents=True,exist_ok=True)\n",
    "    \n",
    "    network = create_network()\n",
    "    attach_efficiencies(network)\n",
    "    \n",
    "\n",
    "    # Save network as csv because netcdf is not working\n",
    "    # see https://github.com/PyPSA/PyPSA/issues/204\n",
    "    network.export_to_csv_folder(snakemake.output[\"network\"])"
   ]
  }
 ],
 "metadata": {
  "kernelspec": {
   "display_name": "Python 3",
   "language": "python",
   "name": "python3"
  },
  "language_info": {
   "codemirror_mode": {
    "name": "ipython",
    "version": 3
   },
   "file_extension": ".py",
   "mimetype": "text/x-python",
   "name": "python",
   "nbconvert_exporter": "python",
   "pygments_lexer": "ipython3",
   "version": "3.7.7"
  }
 },
 "nbformat": 4,
 "nbformat_minor": 4
}
