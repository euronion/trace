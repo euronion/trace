{
 "cells": [
  {
   "cell_type": "code",
   "execution_count": 2,
   "metadata": {},
   "outputs": [],
   "source": [
    "import pypsa\n",
    "import numpy as np\n",
    "import pickle\n",
    "from pathlib import Path\n",
    "\n",
    "from _helpers import configure_logging\n",
    "import logging\n",
    "logger = logging.getLogger(__name__)"
   ]
  },
  {
   "cell_type": "code",
   "execution_count": 3,
   "metadata": {},
   "outputs": [],
   "source": [
    "if __name__ == \"__main__\":\n",
    "\n",
    "    configure_logging(snakemake)\n",
    "\n",
    "    # Load additional components\n",
    "    with open(snakemake.input[\"additional_components\"], \"rb\") as f:\n",
    "        override_component_attrs = pickle.load(f)\n",
    "    network = pypsa.Network(override_component_attrs=override_component_attrs)\n",
    "\n",
    "    network.import_from_csv_folder(snakemake.input[\"network\"])"
   ]
  },
  {
   "cell_type": "code",
   "execution_count": 4,
   "metadata": {},
   "outputs": [],
   "source": [
    "    logger.info(\"Starting LOPF.\")\n",
    "    status, termination_condition = network.lopf(snapshots=network.snapshots, pyomo=False, solver_name=\"cbc\")\n",
    "    logger.info(\"End of LOPF.\")\n",
    "\n",
    "    network.export_to_netcdf(snakemake.output[\"network\"])"
   ]
  }
 ],
 "metadata": {
  "kernelspec": {
   "display_name": "Python 3",
   "language": "python",
   "name": "python3"
  },
  "language_info": {
   "codemirror_mode": {
    "name": "ipython",
    "version": 3
   },
   "file_extension": ".py",
   "mimetype": "text/x-python",
   "name": "python",
   "nbconvert_exporter": "python",
   "pygments_lexer": "ipython3",
   "version": "3.7.9"
  }
 },
 "nbformat": 4,
 "nbformat_minor": 4
}
