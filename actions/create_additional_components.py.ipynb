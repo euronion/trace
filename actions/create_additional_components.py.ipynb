{
 "cells": [
  {
   "cell_type": "code",
   "execution_count": 2,
   "metadata": {},
   "outputs": [],
   "source": [
    "import pypsa\n",
    "import pickle\n",
    "from pathlib import Path\n",
    "import numpy as np\n",
    "import pandas as pd\n",
    "\n",
    "from _helpers import configure_logging\n",
    "import logging\n",
    "logger = logging.getLogger(__name__)"
   ]
  },
  {
   "cell_type": "code",
   "execution_count": 3,
   "metadata": {},
   "outputs": [],
   "source": [
    "if __name__ == \"__main__\":\n",
    "\n",
    "    configure_logging(snakemake)\n",
    "    override_component_attrs = pypsa.descriptors.Dict({k : v.copy() for k,v in pypsa.components.component_attrs.items()})\n",
    "\n",
    "    override_component_attrs[\"Link\"].loc[\"bus2\"] = [\"string\",\n",
    "                                                    np.nan,\n",
    "                                                    np.nan,\n",
    "                                                    \"Name of optional 3rd bus to which link is attached.\",\n",
    "                                                    \"Input (optional)\"\n",
    "                                                   ]\n",
    "    override_component_attrs[\"Link\"].loc[\"efficiency2\"] = [\"static or series\",\n",
    "                                                           \"per unit\",\n",
    "                                                           np.nan,\n",
    "                                                           \"Efficiency of power transfer from bus0 to bus2 (static or time-dependent)\",\n",
    "                                                           \"Input (optional)\"\n",
    "                                                          ]\n",
    "    override_component_attrs[\"Link\"].loc[\"p2\"] = [\"series\",\n",
    "                                                  \"MW\",0.,\n",
    "                                                  \"3rd bus output\",\n",
    "                                                  \"Output\"\n",
    "                                                 ]\n",
    "\n",
    "    output = Path(snakemake.output[\"additional_components\"])\n",
    "\n",
    "    output.parent.mkdir(parents=True, exist_ok=True)\n",
    "\n",
    "    with open(snakemake.output[\"additional_components\"], \"wb\") as f:\n",
    "        pickle.dump(override_component_attrs, f)"
   ]
  }
 ],
 "metadata": {
  "kernelspec": {
   "display_name": "Python 3",
   "language": "python",
   "name": "python3"
  },
  "language_info": {
   "codemirror_mode": {
    "name": "ipython",
    "version": 3
   },
   "file_extension": ".py",
   "mimetype": "text/x-python",
   "name": "python",
   "nbconvert_exporter": "python",
   "pygments_lexer": "ipython3",
   "version": "3.7.9"
  }
 },
 "nbformat": 4,
 "nbformat_minor": 4
}
