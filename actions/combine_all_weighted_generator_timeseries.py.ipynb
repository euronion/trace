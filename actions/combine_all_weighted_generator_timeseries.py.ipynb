{
 "cells": [
  {
   "cell_type": "code",
   "execution_count": null,
   "id": "42e0e2c2",
   "metadata": {},
   "outputs": [],
   "source": [
    "import logging\n",
    "from pathlib import Path\n",
    "\n",
    "import xarray as xr\n",
    "from _helpers import configure_logging\n",
    "\n",
    "logger = logging.getLogger(__name__)"
   ]
  },
  {
   "cell_type": "code",
   "execution_count": null,
   "id": "94976071",
   "metadata": {},
   "outputs": [],
   "source": [
    "if __name__ == \"__main__\":\n",
    "\n",
    "    configure_logging(snakemake)\n",
    "\n",
    "    ds = []  # Container, used to merge all network-individual results later\n",
    "    for fp in snakemake.input[\"networks\"]:\n",
    "        fp = Path(fp)\n",
    "        logger.info(f\"Reading {fp}.\")\n",
    "        ds_network = xr.open_dataset(snakemake.input[0])\n",
    "\n",
    "        ds_network = ds_network.expand_dims(\n",
    "            {\n",
    "                # Add exporter and importer code as new dimension\n",
    "                \"exporter\": [\n",
    "                    \"-\".join(fp.parts[-2].split(\"-\")[:-1])\n",
    "                ],  # Allow for \"-\" in exporter, needs to be re-added\n",
    "                \"importer\": [fp.parts[-2].split(\"-\")[-1]],\n",
    "            }\n",
    "        )\n",
    "\n",
    "        # Add individual time-series to list, combined later\n",
    "        ds.append(ds_network)\n",
    "\n",
    "    # Combine DataSets\n",
    "    ds = xr.merge(ds)\n",
    "    logger.info(f\"Saving combined results...\")\n",
    "\n",
    "    ds.to_netcdf(snakemake.output[\"combined_timeseries\"])"
   ]
  }
 ],
 "metadata": {
  "kernelspec": {
   "display_name": "Python 3 (ipykernel)",
   "language": "python",
   "name": "python3"
  },
  "language_info": {
   "codemirror_mode": {
    "name": "ipython",
    "version": 3
   },
   "file_extension": ".py",
   "mimetype": "text/x-python",
   "name": "python",
   "nbconvert_exporter": "python",
   "pygments_lexer": "ipython3",
   "version": "3.10.6"
  }
 },
 "nbformat": 4,
 "nbformat_minor": 5
}
