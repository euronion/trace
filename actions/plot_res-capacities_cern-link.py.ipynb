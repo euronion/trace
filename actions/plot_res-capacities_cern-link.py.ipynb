{
 "cells": [
  {
   "cell_type": "code",
   "execution_count": null,
   "id": "9bb12812",
   "metadata": {},
   "outputs": [],
   "source": [
    "import re\n",
    "from pathlib import Path\n",
    "\n",
    "import hvplot.pandas\n",
    "import matplotlib.pyplot as plt\n",
    "import numpy as np\n",
    "import pandas as pd\n",
    "import seaborn as sns\n",
    "\n",
    "sns.set_style(\"whitegrid\")"
   ]
  },
  {
   "cell_type": "code",
   "execution_count": null,
   "id": "67824603",
   "metadata": {},
   "outputs": [],
   "source": [
    "dfs = []\n",
    "for fn in snakemake.input[\"results\"]:\n",
    "    df = pd.read_csv(fn, delimiter=\";\")\n",
    "    df[\"csp\"] = \"CSP\" if \"_with_csp\" in fn else \"no CSP\"\n",
    "\n",
    "    dfs.append(df)\n",
    "\n",
    "df = pd.concat(dfs)"
   ]
  },
  {
   "cell_type": "code",
   "execution_count": null,
   "id": "4838c164",
   "metadata": {},
   "outputs": [],
   "source": [
    "df = df[df[\"subcategory\"].str.startswith(\"Total installed capacity \")]\n",
    "\n",
    "df[\"technology\"] = df[\"subcategory\"].str.replace(\"Total installed capacity \", \"\")\n",
    "\n",
    "rename_technologies = {\n",
    "    \"csp-tower\": \"CSP\",\n",
    "    \"offwind\": \"wind offshore\",\n",
    "    \"onwind\": \"wind onshore\",\n",
    "    \"solar-utility\": \"PV\",\n",
    "}\n",
    "\n",
    "for old_name, new_name in rename_technologies.items():\n",
    "    df[\"technology\"] = df[\"technology\"].str.replace(old_name, new_name)\n",
    "\n",
    "df[\"value\"] /= 1e3  # generation capacity in GW instead of MW\n",
    "\n",
    "# Consider efficiency of power block for csp-tower\n",
    "# resulting number is ficitious (does not consider power block capacity)\n",
    "# but allows for comparison of magnitudes vs. MWp of PV and wind\n",
    "df.loc[df[\"technology\"] == \"CSP\", \"value\"] *= 0.412"
   ]
  },
  {
   "cell_type": "code",
   "execution_count": null,
   "id": "2186f498",
   "metadata": {},
   "outputs": [],
   "source": [
    "for esc in [\"hvdc-to-elec\", \"pipeline-h2-to-elec\"]:\n",
    "    for exporter in [\"MA\", \"TN\", \"SA\"]:\n",
    "        elec = df.query(\"esc == @esc and exporter == @exporter\").reset_index(drop=True)\n",
    "\n",
    "        fig, axes = plt.subplots(\n",
    "            nrows=1, ncols=elec[\"scenario\"].unique().shape[0], sharey=True\n",
    "        )\n",
    "\n",
    "        # Axes <-> scenario mapping: Index where each scenario is plotted in figure\n",
    "        scenario_order = {\n",
    "            \"unbuffered\": 0,\n",
    "            \"daily\": 1,\n",
    "            \"weekly\": 2,\n",
    "            \"biweekly\": 3,\n",
    "            \"monthly\": 4,\n",
    "            \"quaterly\": 5,\n",
    "            \"annually\": 6,\n",
    "        }\n",
    "\n",
    "        for name, group in elec.groupby(\"scenario\"):\n",
    "            group = group[[\"csp\", \"technology\", \"value\"]].pivot_table(\n",
    "                index=\"csp\", columns=\"technology\", values=\"value\"\n",
    "            )\n",
    "\n",
    "            ax = axes[scenario_order[name]]\n",
    "            group.plot.bar(stacked=True, rot=90, ax=ax, legend=0)\n",
    "\n",
    "            ax.set_ylabel(\"Installed capacity [GW]\")\n",
    "            ax.set_xlabel(name)\n",
    "\n",
    "        # Single legend for all subplots\n",
    "        handles, labels = ax.get_legend_handles_labels()\n",
    "        legend = fig.legend(\n",
    "            handles, labels, loc=\"center right\", bbox_to_anchor=(1.2, 0.5)\n",
    "        )\n",
    "        fig.suptitle(f\"{exporter}: {esc}\")\n",
    "        # fig.tight_layout()\n",
    "\n",
    "        fig.savefig(\n",
    "            [fn for fn in snakemake.output[\"figures\"] if exporter in fn and esc in fn][\n",
    "                0\n",
    "            ],\n",
    "            dpi=300,\n",
    "            bbox_inches=\"tight\",\n",
    "            bbox_extra_artists=(legend,),\n",
    "        )"
   ]
  }
 ],
 "metadata": {
  "kernelspec": {
   "display_name": "Python 3 (ipykernel)",
   "language": "python",
   "name": "python3"
  },
  "language_info": {
   "codemirror_mode": {
    "name": "ipython",
    "version": 3
   },
   "file_extension": ".py",
   "mimetype": "text/x-python",
   "name": "python",
   "nbconvert_exporter": "python",
   "pygments_lexer": "ipython3",
   "version": "3.8.12"
  }
 },
 "nbformat": 4,
 "nbformat_minor": 5
}
