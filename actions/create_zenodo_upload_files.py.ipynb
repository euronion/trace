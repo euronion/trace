{
 "cells": [
  {
   "cell_type": "code",
   "execution_count": null,
   "id": "51e93ae0",
   "metadata": {},
   "outputs": [],
   "source": [
    "import zipfile\n",
    "from pathlib import Path\n",
    "import shutil\n",
    "from tqdm.auto import tqdm"
   ]
  },
  {
   "cell_type": "code",
   "execution_count": null,
   "id": "cfc426a9",
   "metadata": {},
   "outputs": [],
   "source": [
    "inputs = dict(snakemake.input)"
   ]
  },
  {
   "cell_type": "code",
   "execution_count": null,
   "id": "1015d96e",
   "metadata": {},
   "outputs": [],
   "source": [
    "# Costs csv files are added without the absolute path to their zip file\n",
    "# Reason: Historic, initial upload was like this and we keep the same structure\n",
    "key = \"costs\"\n",
    "fps = [Path(fp) for fp in inputs.pop(key)]\n",
    "with zipfile.ZipFile(snakemake.output[key], mode=\"w\") as ziparchive:\n",
    "    for fp in fps:\n",
    "        ziparchive.write(fp, arcname=fp.name) # arcname: add csv without basepath"
   ]
  },
  {
   "cell_type": "code",
   "execution_count": null,
   "id": "929715bf",
   "metadata": {},
   "outputs": [],
   "source": [
    "# results.csv is simply a copy of the file\n",
    "key = \"results_csv\"\n",
    "fp = inputs.pop(key)\n",
    "shutil.copy(fp, snakemake.output[key])"
   ]
  },
  {
   "cell_type": "code",
   "execution_count": null,
   "id": "4c5924b3",
   "metadata": {},
   "outputs": [],
   "source": [
    "# Recursively add all files of paths which are directories\n",
    "# Add paths as files if they are not directories\n",
    "for key in inputs.copy().keys():\n",
    "    print(f\"Building zip for: {key}\")\n",
    "    paths = [Path(f) for f in inputs.pop(key)]\n",
    "    with zipfile.ZipFile(snakemake.output[key], mode=\"w\") as ziparchive:\n",
    "        for path in paths:\n",
    "            if path.is_dir():\n",
    "                # All files in directory and subdirectory are to be added to zip\n",
    "                fps = path.rglob(\"*\")\n",
    "            else:\n",
    "                # path is file; convert to list for loop below to work\n",
    "                fps = [path]\n",
    "            \n",
    "            for fp in tqdm(fps):\n",
    "                ziparchive.write(fp)"
   ]
  }
 ],
 "metadata": {
  "kernelspec": {
   "display_name": "Python 3 (ipykernel)",
   "language": "python",
   "name": "python3"
  },
  "language_info": {
   "codemirror_mode": {
    "name": "ipython",
    "version": 3
   },
   "file_extension": ".py",
   "mimetype": "text/x-python",
   "name": "python",
   "nbconvert_exporter": "python",
   "pygments_lexer": "ipython3",
   "version": "3.10.6"
  }
 },
 "nbformat": 4,
 "nbformat_minor": 5
}
