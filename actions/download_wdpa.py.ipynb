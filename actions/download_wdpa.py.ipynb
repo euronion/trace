{
 "cells": [
  {
   "cell_type": "code",
   "execution_count": null,
   "id": "e6cad5e5",
   "metadata": {},
   "outputs": [],
   "source": [
    "import logging\n",
    "\n",
    "logger = logging.getLogger(__name__)\n",
    "\n",
    "import zipfile\n",
    "from pathlib import Path\n",
    "\n",
    "import geopandas as gpd\n",
    "import pandas as pd\n",
    "from _helpers import configure_logging\n",
    "\n",
    "if __name__ == \"__main__\":\n",
    "\n",
    "    configure_logging(snakemake)\n",
    "\n",
    "    # Move downloaded zip file to the right output folder\n",
    "    # Snakemake.input\n",
    "    Path(snakemake.input[0]).rename(snakemake.output[\"zip\"])\n",
    "\n",
    "    logging.info(f\"Extracting archive: {snakemake.output['zip']}\")\n",
    "    # WDPA files are twofold zipped: the parent folder (unzipping here)...\n",
    "    with zipfile.ZipFile(snakemake.output[\"zip\"], \"r\") as zf:\n",
    "        zf.extractall(snakemake.output[\"folder\"])\n",
    "\n",
    "    # ... and then combine the different zipped layers\n",
    "    layers = []\n",
    "    layer_files = list(Path(snakemake.output[\"folder\"]).glob(\"WDPA*.zip\"))\n",
    "\n",
    "    logging.info(\n",
    "        f\"Found {len(layer_files)} WDPA layers in {snakemake.output['folder']}\"\n",
    "    )\n",
    "    for layer_file in layer_files:\n",
    "        logging.info(f\"Opening file {str(layer_file)}...\")\n",
    "        layers.append(gpd.read_file(\"zip://\" + str(layer_file)))\n",
    "\n",
    "    logging.info(\"Saving and combining WDPA layers.\")\n",
    "    gdf = gpd.GeoDataFrame(pd.concat(layers), crs=layers[0].crs)\n",
    "    gdf.to_file(snakemake.output[\"gpkg\"], driver=\"GPKG\")"
   ]
  }
 ],
 "metadata": {
  "kernelspec": {
   "display_name": "Python 3 (ipykernel)",
   "language": "python",
   "name": "python3"
  },
  "language_info": {
   "codemirror_mode": {
    "name": "ipython",
    "version": 3
   },
   "file_extension": ".py",
   "mimetype": "text/x-python",
   "name": "python",
   "nbconvert_exporter": "python",
   "pygments_lexer": "ipython3",
   "version": "3.8.12"
  }
 },
 "nbformat": 4,
 "nbformat_minor": 5
}
