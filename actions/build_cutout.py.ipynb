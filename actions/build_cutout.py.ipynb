{
 "cells": [
  {
   "cell_type": "code",
   "execution_count": null,
   "id": "31ea446b",
   "metadata": {},
   "outputs": [],
   "source": [
    "import logging\n",
    "\n",
    "import atlite\n",
    "import geopandas as gpd\n",
    "from _helpers import configure_logging\n",
    "\n",
    "logger = logging.getLogger(__name__)\n",
    "\n",
    "if __name__ == \"__main__\":\n",
    "    configure_logging(snakemake)\n",
    "\n",
    "    region = gpd.read_file(snakemake.input[\"gpkg\"])\n",
    "    \n",
    "    # Fix: Explode does not work if region has no offshore geometry (\"None\" for offshore)\n",
    "    region = region.dropna()\n",
    "\n",
    "    # .buffer(0) to fix some invalid geometries\n",
    "    # exploding before buffer significantly increases performance\n",
    "    region = region.explode(ignore_index=True).buffer(0)\n",
    "\n",
    "    region = region.unary_union\n",
    "\n",
    "    # TODO: make sure cutout contains full bounds,\n",
    "    # might need to substract / add in lower/upper bounds some <=0.25°lat/lon\n",
    "\n",
    "    cutout = atlite.Cutout(\n",
    "        snakemake.output[\"cutout\"],\n",
    "        module=\"era5\",\n",
    "        bounds=region.bounds,\n",
    "        time=str(snakemake.params[\"era5_year\"]),\n",
    "    )\n",
    "\n",
    "    cutout.prepare()"
   ]
  }
 ],
 "metadata": {
  "kernelspec": {
   "display_name": "Python 3 (ipykernel)",
   "language": "python",
   "name": "python3"
  },
  "language_info": {
   "codemirror_mode": {
    "name": "ipython",
    "version": 3
   },
   "file_extension": ".py",
   "mimetype": "text/x-python",
   "name": "python",
   "nbconvert_exporter": "python",
   "pygments_lexer": "ipython3",
   "version": "3.8.12"
  }
 },
 "nbformat": 4,
 "nbformat_minor": 5
}
