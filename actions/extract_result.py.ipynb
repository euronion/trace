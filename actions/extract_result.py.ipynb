{
 "cells": [
  {
   "cell_type": "code",
   "execution_count": null,
   "metadata": {},
   "outputs": [],
   "source": [
    "import pandas as pd\n",
    "import numpy as np\n",
    "import pypsa\n",
    "import re\n",
    "import csv\n",
    "\n",
    "scenario = snakemake.params[\"scenario\"]\n",
    "\n",
    "l = []\n",
    "\n",
    "n = pypsa.Network()\n",
    "n.import_from_netcdf(snakemake.input['network'])"
   ]
  },
  {
   "cell_type": "code",
   "execution_count": null,
   "metadata": {},
   "outputs": [],
   "source": [
    "res = n.generators_t['p'].filter(regex='wind|pvplant')\n",
    "res = res.loc[:, (res != 0.).any()]\n",
    "res_opt = res.divide(n.generators['p_nom_opt'])\n",
    "res_opt = res_opt.loc[:, (res_opt != 0.).any(axis=0)].dropna(axis=1)"
   ]
  },
  {
   "cell_type": "code",
   "execution_count": null,
   "metadata": {},
   "outputs": [],
   "source": [
    "## General statistics\n",
    "category = 'general'\n",
    "\n",
    "l.append([category, 'Total system cost', n.objective])\n",
    "\n",
    "# Price per MWh delivered\n",
    "l.append([category, 'Cost per MWh delivered', n.objective / n.loads_t['p'].to_numpy().sum()])\n",
    "\n",
    "# Energy surplus factor\n",
    "l.append([category, 'Energy surplus factor', res.to_numpy().sum()/n.loads_t['p'].to_numpy().sum()])\n",
    "\n",
    "# Total demand\n",
    "l.append([category, 'Total demand', n.loads_t['p'].filter(like='demand', axis=1).to_numpy().sum()])"
   ]
  },
  {
   "cell_type": "code",
   "execution_count": null,
   "metadata": {},
   "outputs": [],
   "source": [
    "## RES\n",
    "category = 'RES'\n",
    "\n",
    "# Installed RES capacity\n",
    "l.append([category,\n",
    "          'Total installed capacity',\n",
    "          n.generators.filter(regex='wind|pvplant', axis=0)['p_nom_opt'].sum()])\n",
    "\n",
    "# Installed windonshore capacity\n",
    "l.append([category,\n",
    "          'Total installed windonshore capacity',\n",
    "          n.generators.filter(regex='windonshore', axis=0)['p_nom_opt'].sum()])\n",
    "\n",
    "# Installed windoffshore capacity\n",
    "l.append([category,\n",
    "          'Total installed windoffshore capacity',\n",
    "          n.generators.filter(regex='windoffshore', axis=0)['p_nom_opt'].sum()])\n",
    "\n",
    "# Installed pvplant capacity\n",
    "l.append([category,\n",
    "          'Total installed pvplant capacity',\n",
    "          n.generators.filter(regex='pvplant', axis=0)['p_nom_opt'].sum()])\n",
    "\n",
    "# Produced electricity\n",
    "l.append([category,\n",
    "          'Total produced electricity',\n",
    "          n.generators_t['p'].filter(regex='wind|pvplant', axis=1).to_numpy().sum()])\n",
    "\n",
    "# Produced electricity from windonshore\n",
    "l.append([category,\n",
    "          'Total produced electricity from windonshore',\n",
    "          n.generators_t['p'].filter(regex='windonshore', axis=1).to_numpy().sum()])\n",
    "\n",
    "# Produced electricity from windoffshore\n",
    "l.append([category,\n",
    "          'Total produced electricity from windoffshore',\n",
    "          n.generators_t['p'].filter(regex='windoffshore', axis=1).to_numpy().sum()])\n",
    "\n",
    "# Produced electricity from pvplant\n",
    "l.append([category,\n",
    "          'Total produced electricity from pvplant',\n",
    "          n.generators_t['p'].filter(regex='pvplant', axis=1).to_numpy().sum()])\n",
    "\n",
    "# Produced electricity\n",
    "l.append([category,\n",
    "          'Levelised Cost of Electricity',\n",
    "          (n.generators['p_nom_opt']*n.generators['capital_cost']).sum()/(n.generators_t['p'].filter(regex='wind|pvplant', axis=1).to_numpy().sum())])\n",
    "\n",
    "# Curtailed electricity\n",
    "l.append([category,\n",
    "          'Curtailed electricity',\n",
    "          (n.generators_t['p_max_pu']*n.generators['p_nom_opt']-n.generators_t['p']).sum(axis=1).sum()])\n",
    "\n",
    "# Installed capacities per RES\n",
    "types = {'windoffshore': 'Offshore wind',\n",
    "          'windonshore': 'Onshore wind',\n",
    "          'pvplant': 'PV'\n",
    "         }\n",
    "\n",
    "for t in types:\n",
    "    l.append([category,\n",
    "              f'Installed capacity {t}',\n",
    "              n.generators.filter(like=t, axis=0)['p_nom_opt'].sum()])\n",
    "\n",
    "for t in types:\n",
    "    l.append([category,\n",
    "              f'Potential {t}',\n",
    "              n.generators.filter(like=t, axis=0)['p_nom_max'].sum()])\n",
    "\n",
    "# min electricity generation\n",
    "t = res.sum(axis=1).min()\n",
    "\n",
    "l.append([category, 'Minimum generation', t])\n",
    "\n",
    "# max electricity generation\n",
    "t = res.sum(axis=1).max()\n",
    "\n",
    "l.append([category, 'Maximum generation', t])"
   ]
  },
  {
   "cell_type": "code",
   "execution_count": null,
   "metadata": {},
   "outputs": [],
   "source": [
    "# costs\n",
    "category = 'cost'\n",
    "\n",
    "t = getattr(n, 'generators')\n",
    "t_t = getattr(n, 'generators_t')\n",
    "t = ((t['p_nom_opt'].clip(lower=0.)*t['capital_cost']) \n",
    "     + (t_t['p']*t['marginal_cost']).sum()).replace(0.,np.nan).dropna()\n",
    "\n",
    "t = list(zip([category]*len(t), t.index, t.to_list()))\n",
    "l.extend(t)\n",
    "\n",
    "t = getattr(n, 'links')\n",
    "t_t = getattr(n, 'links_t')\n",
    "t = (t['p_nom_opt'].clip(lower=0)*t['capital_cost'] +\n",
    "     (t_t['p0']*t['marginal_cost']).sum()\n",
    "    ).replace(0., np.nan).dropna()\n",
    "\n",
    "t = list(zip([category]*len(t), t.index, t.to_list()))\n",
    "\n",
    "l.extend(t)\n",
    "\n",
    "t = getattr(n, 'stores')\n",
    "t_t = getattr(n, 'stores_t')\n",
    "t = (t['e_nom_opt'].clip(lower=0)*t['capital_cost']+\n",
    "    (t_t['e']*t['marginal_cost']).sum()\n",
    "    ).replace(0., np.nan).dropna()\n",
    "t = t.groupby(lambda x: re.sub('\\sconvoy \\d+ .*','', x.replace(' (exp)','').replace(' (imp)',''))).sum()\n",
    "\n",
    "t = list(zip([category]*len(t), t.index, t.to_list()))\n",
    "\n",
    "l.extend(t)"
   ]
  },
  {
   "cell_type": "code",
   "execution_count": null,
   "metadata": {},
   "outputs": [],
   "source": [
    "# capacity factors\n",
    "\n",
    "# Annual CF\n",
    "t = res.to_numpy().sum()/(n.generators.filter(regex='wind|pvplant', axis=0)['p_nom_opt'].sum()*n.snapshots.shape[0])\n",
    "display(t)\n",
    "\n",
    "l.append(['capacity factor', 'RES annual CF', t])\n",
    "\n",
    "# Average annual CF\n",
    "t = res_opt.to_numpy().mean()\n",
    "\n",
    "display(t)\n",
    "l.append(['capacity factor', 'RES average CF', t])\n",
    "\n",
    "c = 'stores'\n",
    "t = getattr(n, c)\n",
    "t_t = getattr(n, c+\"_t\")\n",
    "\n",
    "# Cleanup rounding errors and small values != 0\n",
    "t = t['e_nom_opt'].round(decimals=6)\n",
    "t_t = t_t['e'].round(decimals=6)\n",
    "\n",
    "t = t_t.divide(t).dropna(axis=1).mean()\n",
    "t = list(zip(['capacity factor']*len(t), t.index, t.to_list()))\n",
    "\n",
    "l.extend(t)\n",
    "\n",
    "c = 'links'\n",
    "t = getattr(n, c)\n",
    "t_t = getattr(n, c+\"_t\")\n",
    "\n",
    "# Cleanup rounding errors and small values != 0\n",
    "t = t['p_nom_opt'].round(decimals=6)\n",
    "t_t = t_t['p0'].round(decimals=6)\n",
    "\n",
    "t = t_t.divide(t).dropna(axis=1).mean()\n",
    "t = list(zip(['capacity factor']*len(t), t.index, t.to_list()))\n",
    "\n",
    "l.extend(t)\n",
    "\n",
    "c = 'generators'\n",
    "t = getattr(n, c)\n",
    "t_t = getattr(n, c+\"_t\")\n",
    "\n",
    "t = t_t['p'].divide(t['p_nom_opt'].clip(lower=0.)).dropna(axis=1).mean()\n",
    "t = list(zip(['capacity factor']*len(t), t.index, t.to_list()))\n",
    "\n",
    "l.extend(t)"
   ]
  },
  {
   "cell_type": "code",
   "execution_count": null,
   "metadata": {},
   "outputs": [],
   "source": [
    "# build capacities"
   ]
  },
  {
   "cell_type": "code",
   "execution_count": null,
   "metadata": {},
   "outputs": [],
   "source": [
    "c = 'generators'\n",
    "t = getattr(n, c)\n",
    "\n",
    "t = t['p_nom_opt'].clip(lower=0.).replace(0., np.nan).dropna()\n",
    "t = list(zip(['installed capacity']*len(t), t.index, t.to_list()))\n",
    "\n",
    "l.extend(t)\n",
    "\n",
    "c = 'links'\n",
    "t = getattr(n, c)\n",
    "t = t['p_nom_opt'].clip(lower=0.).replace(0., np.nan).dropna()\n",
    "\n",
    "t = list(zip(['installed capacity']*len(t), t.index, t.to_list()))\n",
    "\n",
    "l.extend(t)\n",
    "\n",
    "c = 'stores'\n",
    "t = getattr(n, c)\n",
    "t = t['e_nom_opt'].clip(lower=0.).replace(0., np.nan).dropna()\n",
    "\n",
    "t = list(zip(['installed capacity']*len(t), t.index, t.to_list()))\n",
    "\n",
    "l.extend(t)"
   ]
  },
  {
   "cell_type": "code",
   "execution_count": null,
   "metadata": {},
   "outputs": [],
   "source": [
    "# List to dataframe\n",
    "\n",
    "df = pd.DataFrame(l, columns=['category', 'subcategory', 'value'])"
   ]
  },
  {
   "cell_type": "code",
   "execution_count": null,
   "metadata": {},
   "outputs": [],
   "source": [
    "# Add experiment specific information\n",
    "for k,v in snakemake.wildcards.items():\n",
    "    df[k] = v\n",
    "df['wacc'] = scenario['wacc']\n",
    "\n",
    "df = df.set_index(['scenario','year','esc','exporter','importer','wacc','category','subcategory'], verify_integrity=True)"
   ]
  },
  {
   "cell_type": "code",
   "execution_count": null,
   "metadata": {},
   "outputs": [],
   "source": [
    "# Dataframe to file\n",
    "\n",
    "df.to_csv(snakemake.output['results'], sep=';')"
   ]
  },
  {
   "cell_type": "code",
   "execution_count": null,
   "metadata": {},
   "outputs": [],
   "source": [
    "import seaborn as sns\n",
    "sns.set_style('whitegrid')\n",
    "import matplotlib.pyplot as plt"
   ]
  },
  {
   "cell_type": "code",
   "execution_count": null,
   "metadata": {},
   "outputs": [],
   "source": [
    "# min electricity generation\n",
    "t = res.sum(axis=1).min()\n",
    "\n",
    "l.append(['general', 'minimum RES generation', t])\n",
    "\n",
    "plt.figure(figsize=(30,30))\n",
    "ax = plt.gca()\n",
    "\n",
    "res = n.generators_t['p'].filter(regex='pvplant|wind',axis=1)\n",
    "res = res.loc[:,(res != 0.).any()]\n",
    "\n",
    "real = res.sum(axis=1)\n",
    "theo_max = n.generators_t['p_max_pu'].multiply(n.generators['p_nom_opt'])[res.columns].sum(axis=1)\n",
    "diff = real-theo_max\n",
    "\n",
    "theo_max.name = \"Available generation\"\n",
    "real.name = \"Realised generation\"\n",
    "diff.name = \"Curtailed\"\n",
    "\n",
    "theo_max.plot(ax=ax)\n",
    "real.plot(ax=ax)\n",
    "diff.plot(ax=ax)\n",
    "\n",
    "plt.legend()"
   ]
  },
  {
   "cell_type": "code",
   "execution_count": null,
   "metadata": {},
   "outputs": [],
   "source": [
    "if 'shipping' in n.name:\n",
    "    n.links_t['p0'].filter(regex='ship convoy [0-9]* loading').sum(axis=1).plot(figsize=(30,10),\n",
    "                                                                                title='ship loading')"
   ]
  },
  {
   "cell_type": "code",
   "execution_count": null,
   "metadata": {},
   "outputs": [],
   "source": [
    "if 'shipping' in n.name:\n",
    "    n.links_t['p0'].filter(regex='ship convoy [0-9]* unloading').sum(axis=1).plot(figsize=(30,10),\n",
    "                                                                               title='ship unloading')"
   ]
  },
  {
   "cell_type": "code",
   "execution_count": null,
   "metadata": {},
   "outputs": [],
   "source": [
    "if 'shipping' in n.name:\n",
    "    n.stores_t['e'].filter(like='cargo').sum(axis=1).plot(figsize=(30,10),\n",
    "                                                      title='ship cargo')"
   ]
  },
  {
   "cell_type": "code",
   "execution_count": null,
   "metadata": {},
   "outputs": [],
   "source": [
    "cs = {c for c in n.links.index if \"ship convoy\" not in c}"
   ]
  },
  {
   "cell_type": "code",
   "execution_count": null,
   "metadata": {},
   "outputs": [],
   "source": [
    "c1 = {c for c in cs if c.startswith('battery inverter')}\n",
    "c2 = {c for c in cs if c.startswith('seawater desalination')}\n",
    "c3 = cs - c1 - c2"
   ]
  },
  {
   "cell_type": "code",
   "execution_count": null,
   "metadata": {},
   "outputs": [],
   "source": [
    "n.links_t['p0'].index = pd.to_datetime(n.links_t['p0'].index)"
   ]
  },
  {
   "cell_type": "code",
   "execution_count": null,
   "metadata": {},
   "outputs": [],
   "source": [
    "for c in [c1,c2,c3]:\n",
    "    if c:\n",
    "        n.links_t['p0'][c].plot(figsize=(50,20))\n",
    "        plt.ylim(0,)"
   ]
  },
  {
   "cell_type": "code",
   "execution_count": null,
   "metadata": {},
   "outputs": [],
   "source": [
    "cs = {c for c in n.stores_t['e'].columns if 'cargo' not in c}"
   ]
  },
  {
   "cell_type": "code",
   "execution_count": null,
   "metadata": {},
   "outputs": [],
   "source": [
    "c1 = {c for c in cs if c.startswith(\"hydrogen (g) storage tank\") or\n",
    "                       c.startswith(\"Buffer: hydrogen (g) demand\")}\n",
    "c2 = {c for c in cs if c.startswith(\"clean water tank storage\") or\n",
    "                       c.startswith(\"battery storage\")}\n",
    "c3 = cs-c1-c2"
   ]
  },
  {
   "cell_type": "code",
   "execution_count": null,
   "metadata": {},
   "outputs": [],
   "source": [
    "for c in [c1,c2,c3]:\n",
    "    if c:\n",
    "        n.stores_t['e'][c].plot(figsize=(50,20), title='Stores')\n",
    "        plt.ylim(0,)"
   ]
  }
 ],
 "metadata": {
  "kernelspec": {
   "display_name": "Python 3",
   "language": "python",
   "name": "python3"
  },
  "language_info": {
   "codemirror_mode": {
    "name": "ipython",
    "version": 3
   },
   "file_extension": ".py",
   "mimetype": "text/x-python",
   "name": "python",
   "nbconvert_exporter": "python",
   "pygments_lexer": "ipython3",
   "version": "3.7.9"
  }
 },
 "nbformat": 4,
 "nbformat_minor": 4
}
