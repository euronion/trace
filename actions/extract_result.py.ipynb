{
 "cells": [
  {
   "cell_type": "code",
   "execution_count": null,
   "metadata": {},
   "outputs": [],
   "source": [
    "import pandas as pd\n",
    "import numpy as np\n",
    "import pypsa"
   ]
  },
  {
   "cell_type": "code",
   "execution_count": null,
   "metadata": {},
   "outputs": [],
   "source": [
    "l = []"
   ]
  },
  {
   "cell_type": "code",
   "execution_count": null,
   "metadata": {},
   "outputs": [],
   "source": [
    "n = pypsa.Network()\n",
    "n.import_from_netcdf(snakemake.input['network'])"
   ]
  },
  {
   "cell_type": "code",
   "execution_count": null,
   "metadata": {},
   "outputs": [],
   "source": [
    "res = n.generators_t['p'].filter(regex='wind|pvplant')\n",
    "res = res.loc[:, (res != 0.).any()]\n",
    "res_opt = res.divide(n.generators['p_nom_opt'])\n",
    "res_opt = res_opt.loc[:, (res_opt != 0.).any(axis=0)].dropna(axis=1)"
   ]
  },
  {
   "cell_type": "code",
   "execution_count": null,
   "metadata": {},
   "outputs": [],
   "source": [
    "l.append(['general', 'Total system cost', n.objective])"
   ]
  },
  {
   "cell_type": "code",
   "execution_count": null,
   "metadata": {},
   "outputs": [],
   "source": [
    "# Price per MWh delivered\n",
    "l.append(['general', 'Cost per MWh delivered', n.objective / n.loads_t['p'].to_numpy().sum()])"
   ]
  },
  {
   "cell_type": "code",
   "execution_count": null,
   "metadata": {},
   "outputs": [],
   "source": [
    "# Energy surplus factor\n",
    "l.append(['general', 'Energy surplus factor', res.to_numpy().sum()/n.loads_t['p'].to_numpy().sum()])"
   ]
  },
  {
   "cell_type": "code",
   "execution_count": null,
   "metadata": {},
   "outputs": [],
   "source": [
    "# Installed RES capacity\n",
    "l.append(['general', 'Installed RES capacity', n.generators.filter(regex='wind|pvplant', axis=0)['p_nom_opt'].sum()])"
   ]
  },
  {
   "cell_type": "code",
   "execution_count": null,
   "metadata": {},
   "outputs": [],
   "source": [
    "# costs"
   ]
  },
  {
   "cell_type": "code",
   "execution_count": null,
   "metadata": {},
   "outputs": [],
   "source": [
    "t = getattr(n, 'generators')\n",
    "t = (t['p_nom_opt'].clip(lower=0.)*t['capital_cost']).replace(0.,np.nan).dropna()\n",
    "\n",
    "t = list(zip(['cost']*len(t), t.index, t.to_list()))\n",
    "display(t)\n",
    "l.extend(t)"
   ]
  },
  {
   "cell_type": "code",
   "execution_count": null,
   "metadata": {},
   "outputs": [],
   "source": [
    "t = getattr(n, 'links')\n",
    "t = (t['p_nom_opt'].clip(lower=0)*t['capital_cost']).replace(0., np.nan).dropna()\n",
    "\n",
    "t = list(zip(['cost']*len(t), t.index, t.to_list()))\n",
    "display(t)\n",
    "\n",
    "l.extend(t)"
   ]
  },
  {
   "cell_type": "code",
   "execution_count": null,
   "metadata": {},
   "outputs": [],
   "source": [
    "t = getattr(n, 'stores')\n",
    "t = (t['e_nom_opt'].clip(lower=0)*t['capital_cost']).replace(0., np.nan).dropna()\n",
    "\n",
    "t = list(zip(['cost']*len(t), t.index, t.to_list()))\n",
    "display(t)\n",
    "\n",
    "l.extend(t)"
   ]
  },
  {
   "cell_type": "code",
   "execution_count": null,
   "metadata": {},
   "outputs": [],
   "source": [
    "g = n.generators\n",
    "g = g.loc[g['marginal_cost'] > 0.]\n",
    "t = (n.generators_t['p'][g.index]*g['marginal_cost']).sum()\n",
    "\n",
    "t = list(zip(['cost']*len(t), t.index, t.to_list()))\n",
    "display(t)\n",
    "\n",
    "l.extend(t)"
   ]
  },
  {
   "cell_type": "code",
   "execution_count": null,
   "metadata": {},
   "outputs": [],
   "source": [
    "# capacity factors"
   ]
  },
  {
   "cell_type": "code",
   "execution_count": null,
   "metadata": {},
   "outputs": [],
   "source": [
    "# Annual CF\n",
    "t = res.to_numpy().sum()/(n.generators.filter(regex='wind|pvplant', axis=0)['p_nom_opt'].sum()*n.snapshots.shape[0])\n",
    "display(t)\n",
    "\n",
    "l.append(['capacity factor', 'RES annual CF', t])"
   ]
  },
  {
   "cell_type": "code",
   "execution_count": null,
   "metadata": {},
   "outputs": [],
   "source": [
    "# Average annual CF\n",
    "t = res_opt.to_numpy().mean()\n",
    "\n",
    "display(t)\n",
    "l.append(['capacity factor', 'RES average CF', t])"
   ]
  },
  {
   "cell_type": "code",
   "execution_count": null,
   "metadata": {},
   "outputs": [],
   "source": [
    "c = 'stores'\n",
    "t = getattr(n, c)\n",
    "t_t = getattr(n, c+\"_t\")\n",
    "\n",
    "t = t_t['e'].divide(t['e_nom_opt'].clip(lower=0.)).dropna(axis=1).mean()\n",
    "t = list(zip(['capacity factor']*len(t), t.index, t.to_list()))\n",
    "display(t)\n",
    "\n",
    "l.extend(t)"
   ]
  },
  {
   "cell_type": "code",
   "execution_count": null,
   "metadata": {},
   "outputs": [],
   "source": [
    "c = 'links'\n",
    "t = getattr(n, c)\n",
    "t_t = getattr(n, c+\"_t\")\n",
    "\n",
    "t = t_t['p0'].divide(t['p_nom_opt'].clip(lower=0.)).dropna(axis=1).mean()\n",
    "t = list(zip(['capacity factor']*len(t), t.index, t.to_list()))\n",
    "display(t)\n",
    "\n",
    "l.extend(t)"
   ]
  },
  {
   "cell_type": "code",
   "execution_count": null,
   "metadata": {},
   "outputs": [],
   "source": [
    "c = 'generators'\n",
    "t = getattr(n, c)\n",
    "t_t = getattr(n, c+\"_t\")\n",
    "\n",
    "t = t_t['p'].divide(t['p_nom_opt'].clip(lower=0.)).dropna(axis=1).mean()\n",
    "t = list(zip(['capacity factor']*len(t), t.index, t.to_list()))\n",
    "display(t)\n",
    "\n",
    "l.extend(t)"
   ]
  },
  {
   "cell_type": "code",
   "execution_count": null,
   "metadata": {},
   "outputs": [],
   "source": [
    "# build capacities"
   ]
  },
  {
   "cell_type": "code",
   "execution_count": null,
   "metadata": {},
   "outputs": [],
   "source": [
    "c = 'generators'\n",
    "t = getattr(n, c)\n",
    "\n",
    "t = t['p_nom_opt'].clip(lower=0.).replace(0., np.nan).dropna()\n",
    "t = list(zip(['installed capacity']*len(t), t.index, t.to_list()))\n",
    "display(t)\n",
    "\n",
    "l.extend(t)"
   ]
  },
  {
   "cell_type": "code",
   "execution_count": null,
   "metadata": {},
   "outputs": [],
   "source": [
    "c = 'links'\n",
    "t = getattr(n, c)\n",
    "t = t['p_nom_opt'].clip(lower=0.).replace(0., np.nan).dropna()\n",
    "\n",
    "t = list(zip(['installed capacity']*len(t), t.index, t.to_list()))\n",
    "display(t)\n",
    "\n",
    "l.extend(t)"
   ]
  },
  {
   "cell_type": "code",
   "execution_count": null,
   "metadata": {},
   "outputs": [],
   "source": [
    "c = 'stores'\n",
    "t = getattr(n, c)\n",
    "t = t['e_nom_opt'].clip(lower=0.).replace(0., np.nan).dropna()\n",
    "\n",
    "t = list(zip(['installed capacity']*len(t), t.index, t.to_list()))\n",
    "display(t)\n",
    "\n",
    "l.extend(t)"
   ]
  },
  {
   "cell_type": "code",
   "execution_count": null,
   "metadata": {},
   "outputs": [],
   "source": [
    "# min electricity generation\n",
    "t = res.sum(axis=1).min()\n",
    "\n",
    "l.append(['general', 'minimum RES generation', t])"
   ]
  },
  {
   "cell_type": "code",
   "execution_count": null,
   "metadata": {},
   "outputs": [],
   "source": [
    "# max electricity generation\n",
    "t = res.sum(axis=1).max()\n",
    "\n",
    "l.append(['general', 'maximum RES generation', t])"
   ]
  },
  {
   "cell_type": "code",
   "execution_count": null,
   "metadata": {},
   "outputs": [],
   "source": [
    "# Curtailed energy\n",
    "real = res.sum(axis=1)\n",
    "theo_max = n.generators_t['p_max_pu'].multiply(n.generators['p_nom_opt']).replace(0., np.nan).dropna(axis=1).sum(axis=1)\n",
    "curtailed_energy = (theo_max-real).sum()\n",
    "\n",
    "l.append(['general', 'curtailed generation', curtailed_energy])"
   ]
  },
  {
   "cell_type": "code",
   "execution_count": null,
   "metadata": {},
   "outputs": [],
   "source": [
    "l = pd.DataFrame(l, columns=['category', 'subcategory', 'value'])\n",
    "l = l.set_index(['category','subcategory'])"
   ]
  },
  {
   "cell_type": "code",
   "execution_count": null,
   "metadata": {},
   "outputs": [],
   "source": [
    "l.to_csv(snakemake.output['results'], sep=';', quotechar='\"')"
   ]
  },
  {
   "cell_type": "code",
   "execution_count": null,
   "metadata": {},
   "outputs": [],
   "source": []
  },
  {
   "cell_type": "code",
   "execution_count": null,
   "metadata": {},
   "outputs": [],
   "source": [
    "import seaborn as sns\n",
    "sns.set_style('whitegrid')\n",
    "import matplotlib.pyplot as plt"
   ]
  },
  {
   "cell_type": "code",
   "execution_count": null,
   "metadata": {},
   "outputs": [],
   "source": [
    "plt.figure(figsize=(30,30))\n",
    "ax = plt.gca()\n",
    "\n",
    "res = n.generators_t['p'].filter(regex='pvplant|wind',axis=1)\n",
    "res = res.loc[:,(res != 0.).any()]\n",
    "\n",
    "real = res.sum(axis=1)\n",
    "theo_max = n.generators_t['p_max_pu'].multiply(n.generators['p_nom_opt'])[res.columns].sum(axis=1)\n",
    "diff = real-theo_max\n",
    "\n",
    "theo_max.name = \"Available generation\"\n",
    "real.name = \"Realised generation\"\n",
    "diff.name = \"Curtailed\"\n",
    "\n",
    "theo_max.plot(ax=ax)\n",
    "real.plot(ax=ax)\n",
    "diff.plot(ax=ax)\n",
    "\n",
    "plt.legend()"
   ]
  },
  {
   "cell_type": "code",
   "execution_count": null,
   "metadata": {},
   "outputs": [],
   "source": [
    "if 'shipping' in n.name:\n",
    "    n.links_t['p0'].filter(regex='ship convoy [0-9]* loading').sum(axis=1).plot(figsize=(30,10),\n",
    "                                                                                title='ship loading')"
   ]
  },
  {
   "cell_type": "code",
   "execution_count": null,
   "metadata": {},
   "outputs": [],
   "source": [
    "if 'shipping' in n.name:\n",
    "    n.links_t['p0'].filter(regex='ship convoy [0-9]* unloading').sum(axis=1).plot(figsize=(30,10),\n",
    "                                                                               title='ship unloading')"
   ]
  },
  {
   "cell_type": "code",
   "execution_count": null,
   "metadata": {},
   "outputs": [],
   "source": [
    "if 'shipping' in n.name:\n",
    "    n.stores_t['e'].filter(like='cargo').sum(axis=1).plot(figsize=(30,10),\n",
    "                                                      title='ship cargo')"
   ]
  },
  {
   "cell_type": "code",
   "execution_count": null,
   "metadata": {},
   "outputs": [],
   "source": [
    "cs = {c for c in n.links.index if \"ship convoy\" not in c}"
   ]
  },
  {
   "cell_type": "code",
   "execution_count": null,
   "metadata": {},
   "outputs": [],
   "source": [
    "c1 = {'battery inverter (charging, exp)',\n",
    "     'battery inverter (discharging, exp)',\n",
    "     'seawater desalination (exp)'}\n",
    "c2 = {'seawater desalination (exp)'}\n",
    "c3 = cs - c1 - c2"
   ]
  },
  {
   "cell_type": "code",
   "execution_count": null,
   "metadata": {},
   "outputs": [],
   "source": [
    "n.links_t['p0'].index = pd.to_datetime(n.links_t['p0'].index)"
   ]
  },
  {
   "cell_type": "code",
   "execution_count": null,
   "metadata": {},
   "outputs": [],
   "source": [
    "for c in [c1,c2,c3]:\n",
    "    n.links_t['p0'][c].rolling(window=6).mean().plot(figsize=(30,10))"
   ]
  },
  {
   "cell_type": "code",
   "execution_count": null,
   "metadata": {},
   "outputs": [],
   "source": [
    "cs = {c for c in n.stores_t['e'].columns if 'cargo' not in c}"
   ]
  },
  {
   "cell_type": "code",
   "execution_count": null,
   "metadata": {},
   "outputs": [],
   "source": [
    "c1 = {\"hydrogen (g) storage tank (exp)\",\n",
    "         \"hydrogen (g) demand buffer (imp)\"}\n",
    "c2 = {\"clean water tank storage (exp)\",\n",
    "         \"battery storage (exp)\"}\n",
    "c3 = cs-c1-c2"
   ]
  },
  {
   "cell_type": "code",
   "execution_count": null,
   "metadata": {
    "scrolled": false
   },
   "outputs": [],
   "source": [
    "for c in [c1,c2,c3]:\n",
    "    n.stores_t['e'][c].plot(figsize=(30,20), title='Stores')"
   ]
  }
 ],
 "metadata": {
  "kernelspec": {
   "display_name": "Python 3",
   "language": "python",
   "name": "python3"
  },
  "language_info": {
   "codemirror_mode": {
    "name": "ipython",
    "version": 3
   },
   "file_extension": ".py",
   "mimetype": "text/x-python",
   "name": "python",
   "nbconvert_exporter": "python",
   "pygments_lexer": "ipython3",
   "version": "3.7.9"
  }
 },
 "nbformat": 4,
 "nbformat_minor": 4
}
