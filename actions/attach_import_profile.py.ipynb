{
 "cells": [
  {
   "cell_type": "code",
   "execution_count": null,
   "metadata": {},
   "outputs": [],
   "source": [
    "import pandas as pd\n",
    "import dateutil\n",
    "import pypsa\n",
    "import pickle\n",
    "import re\n",
    "import numpy as np\n",
    "from _helpers import configure_logging\n",
    "\n",
    "import logging\n",
    "logger = logging.getLogger(__name__)\n",
    "\n",
    "if __name__ == \"__main__\":\n",
    "    \n",
    "    scenario = snakemake.params[\"scenario\"]\n",
    "    configure_logging(snakemake)\n",
    "    \n",
    "    with open(snakemake.input[\"additional_components\"], \"rb\") as f:\n",
    "        override_component_attrs = pickle.load(f)\n",
    "        \n",
    "    network = pypsa.Network(override_component_attrs=override_component_attrs)\n",
    "    network.import_from_netcdf(snakemake.input[\"network\"])\n",
    "\n",
    "    # Read load profile from file\n",
    "    df = pd.read_csv(snakemake.input[\"import_profile\"])\n",
    "    \n",
    "    if {\"snapshot\",\"profile [p.u.]\"} != set(pd.read_csv(snakemake.input[\"import_profile\"]).columns):\n",
    "        logger.error(f\"Import profile file '{snakemake.input['import_profile']}' must have \"\n",
    "                     f\"exactly two columns 'snapshot' and 'profile [p.u.]'\")\n",
    "    \n",
    "    if np.any(pd.to_datetime(df[\"snapshot\"]) != network.snapshots):\n",
    "        logger.error(f\"At least one 'snapshot' entry in '{snakemake.input['import_profile']}' \"\n",
    "                     f\"does not match the network snapshots: {network.snapshots[:5], ...}.\")\n",
    "    \n",
    "    df = df.set_index(\"snapshot\")\n",
    "\n",
    "    # Apply the import_profile to all loads in the network\n",
    "    for load, load_s in network.loads.iterrows():\n",
    "        import_profile = (load_s[\"p_set\"]*df[\"profile [p.u.]\"])\n",
    "        network.loads_t[\"p_set\"][load] = import_profile\n",
    "        network.loads.loc[load, \"p_set\"] = 0\n",
    "\n",
    "    network.export_to_netcdf(snakemake.output['network'])"
   ]
  }
 ],
 "metadata": {
  "kernelspec": {
   "display_name": "Python 3",
   "language": "python",
   "name": "python3"
  },
  "language_info": {
   "codemirror_mode": {
    "name": "ipython",
    "version": 3
   },
   "file_extension": ".py",
   "mimetype": "text/x-python",
   "name": "python",
   "nbconvert_exporter": "python",
   "pygments_lexer": "ipython3",
   "version": "3.7.9"
  }
 },
 "nbformat": 4,
 "nbformat_minor": 4
}
