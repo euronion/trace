{
 "cells": [
  {
   "cell_type": "code",
   "execution_count": null,
   "id": "93917dc4",
   "metadata": {},
   "outputs": [],
   "source": [
    "import pandas as pd\n",
    "import hvplot.pandas\n",
    "import numpy as np\n",
    "import seaborn as sns\n",
    "from pathlib import Path\n",
    "\n",
    "sns.set_style(\"whitegrid\")\n",
    "\n",
    "df = pd.read_csv(snakemake.input[\"lcoes\"])\n",
    "\n",
    "df = df.drop(columns=[\"capacities\",\"class\"])\n",
    "\n",
    "df[\"cumulative generation\"] /= 1e6 # in TWh\n",
    "df[\"annual generation\"] /= 1e6 # in TWh\n",
    "df = df.sort_values(\"lcoe\")\n",
    "\n",
    "df[\"tech cum gen\"] = df.groupby(\"technology\")[\"annual generation\"].cumsum()\n",
    "\n",
    "plot = (\n",
    "    df.hvplot.step(x=\"tech cum gen\", y=\"lcoe\", by=\"technology\", xlabel=\"Technology potential [TWh]\", ylabel=\"LCoE [EUR/MWh]\", title=\"Technology-specific supply\", legend='top_left')\n",
    "    + df.hvplot.area(x=\"cumulative generation\",y=\"lcoe\", by=\"technology\", stacked=False, ylabel=\"LCoE [EUR/MWh]\", xlabel=\"Total potential [TWh]\", title=\"Combined supply\", legend='top_left', yaxis=\"right\")\n",
    "    * df[df[\"reserved share\"] > 0].hvplot.area(x=\"cumulative generation\", y=\"lcoe\", fill_color=None, c=\"k\", line_dash=\"dotted\")\n",
    ")\n",
    "\n",
    "for of in snakemake.output[\"fig\"]:\n",
    "    hvplot.save(plot, of)"
   ]
  }
 ],
 "metadata": {
  "kernelspec": {
   "display_name": "Python 3 (ipykernel)",
   "language": "python",
   "name": "python3"
  },
  "language_info": {
   "codemirror_mode": {
    "name": "ipython",
    "version": 3
   },
   "file_extension": ".py",
   "mimetype": "text/x-python",
   "name": "python",
   "nbconvert_exporter": "python",
   "pygments_lexer": "ipython3",
   "version": "3.8.12"
  }
 },
 "nbformat": 4,
 "nbformat_minor": 5
}
