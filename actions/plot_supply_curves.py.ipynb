{
 "cells": [
  {
   "cell_type": "code",
   "execution_count": null,
   "id": "93917dc4",
   "metadata": {},
   "outputs": [],
   "source": [
    "from pathlib import Path\n",
    "\n",
    "import hvplot.pandas\n",
    "import numpy as np\n",
    "import pandas as pd\n",
    "import seaborn as sns\n",
    "\n",
    "sns.set_style(\"whitegrid\")\n",
    "\n",
    "df = pd.read_csv(snakemake.input[\"lcoes\"])\n",
    "\n",
    "df = df.drop(columns=[\"capacities\", \"class\"])\n",
    "\n",
    "df[\"cumulative generation\"] /= 1e6  # in TWh\n",
    "df[\"annual generation\"] /= 1e6  # in TWh\n",
    "df = df.sort_values(\"lcoe\")\n",
    "\n",
    "df[\"tech cum gen\"] = df.groupby(\"technology\")[\"annual generation\"].cumsum()\n",
    "\n",
    "plot = df.hvplot.step(\n",
    "    x=\"tech cum gen\",\n",
    "    y=\"lcoe\",\n",
    "    by=\"technology\",\n",
    "    xlabel=\"Technology potential [TWh]\",\n",
    "    ylabel=\"LCoE [EUR/MWh]\",\n",
    "    title=\"Technology-specific supply\",\n",
    "    legend=\"top_left\",\n",
    ") + df.hvplot.area(\n",
    "    x=\"cumulative generation\",\n",
    "    y=\"lcoe\",\n",
    "    by=\"technology\",\n",
    "    stacked=False,\n",
    "    ylabel=\"LCoE [EUR/MWh]\",\n",
    "    xlabel=\"Total potential [TWh]\",\n",
    "    title=\"Combined supply\",\n",
    "    legend=\"top_left\",\n",
    "    yaxis=\"right\",\n",
    ") * df[\n",
    "    df[\"reserved share\"] > 0\n",
    "].hvplot.area(\n",
    "    x=\"cumulative generation\", y=\"lcoe\", fill_color=None, c=\"k\", line_dash=\"dotted\"\n",
    ")\n",
    "\n",
    "for of in snakemake.output[\"fig\"]:\n",
    "    hvplot.save(plot, of)"
   ]
  }
 ],
 "metadata": {
  "kernelspec": {
   "display_name": "Python 3 (ipykernel)",
   "language": "python",
   "name": "python3"
  },
  "language_info": {
   "codemirror_mode": {
    "name": "ipython",
    "version": 3
   },
   "file_extension": ".py",
   "mimetype": "text/x-python",
   "name": "python",
   "nbconvert_exporter": "python",
   "pygments_lexer": "ipython3",
   "version": "3.8.12"
  }
 },
 "nbformat": 4,
 "nbformat_minor": 5
}
